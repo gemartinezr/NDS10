{
 "cells": [
  {
   "cell_type": "code",
   "execution_count": 2,
   "metadata": {},
   "outputs": [],
   "source": [
    "import pandas as pd\n",
    "import matplotlib.pyplot as plt\n",
    "import matplotlib.dates as mdates"
   ]
  },
  {
   "cell_type": "code",
   "execution_count": null,
   "metadata": {},
   "outputs": [],
   "source": [
    "# TAB device  (community)\n",
    "# unit_id = f884bf8c-e6d1-431c-b449-a2a6e0da44c6 \n",
    "# start utc = 2024-10-27T08:30:00.000Z\n",
    "# end utc = 2024-10-27T09:00:00.000\n",
    "\n",
    "# Elfi QA  \n",
    "# unit_id = 7536f0b1-2510-4f94-a9b6-38390da72cd8 \n",
    "# start utc = 2025-05-27T12:18:00Z\n",
    "# end utc = 2025-05-27T14:30:00Z"
   ]
  },
  {
   "cell_type": "markdown",
   "metadata": {},
   "source": [
    "### API request and data transformations"
   ]
  },
  {
   "cell_type": "code",
   "execution_count": 3,
   "metadata": {},
   "outputs": [],
   "source": [
    "def save_response(page_num, response, logger:str):\n",
    "    file_name = f\"{logger.replace('.','_')}_{page_num}.json\" \n",
    "    file_path = '../es_data/vehicle_data/'+file_name\n",
    "    with open(file_path, 'w') as json_response:\n",
    "        json_response.write(response.text)\n",
    "    return file_path"
   ]
  },
  {
   "cell_type": "code",
   "execution_count": 22,
   "metadata": {},
   "outputs": [
    {
     "name": "stdout",
     "output_type": "stream",
     "text": [
      "Found 64 data points from 2025-05-28T13:00:31Z to 2025-05-28T17:00:00Z\n",
      "Found 64 data points from 2025-05-28T13:00:31Z to 2025-05-28T17:00:00Z\n",
      "Found 64 data points from 2025-05-28T13:00:31Z to 2025-05-28T17:00:00Z\n"
     ]
    }
   ],
   "source": [
    "import requests\n",
    "from datetime import datetime\n",
    "import os\n",
    "\n",
    "token_path = \"../csv_data/secrets/qa_autopi_token.txt\"\n",
    "with open(token_path, \"r\") as file:\n",
    "    content = file.read().strip()  # .strip() removes any trailing newlines or spaces\n",
    "\n",
    "# Set the environment variable\n",
    "os.environ[\"MY_TOKEN\"] = content\n",
    "\n",
    "req_url = \"https://api.cloud01.qa.autopi.io/logbook/raw/\"\n",
    "\n",
    "headers_list = {\n",
    " \"Accept\": \"*/*\",\n",
    " \"Content-Type\": \"application/json\",\n",
    " \"Authorization\": f\"APIToken {os.environ.get('MY_TOKEN')}\" \n",
    "}\n",
    "\n",
    "start = \"2025-05-28T13:00:31Z\"\n",
    "end   = \"2025-05-28T17:00:00Z\"\n",
    "loggers = [\"obd.rpm\", \"obd.speed\", \"obd.engine_load\"] #\"obd.oem_hv_battery_voltage\"\n",
    "json_files = []\n",
    "\n",
    "for logger in loggers: \n",
    "    one_day_params = {\"device_id\":\"7536f0b1-2510-4f94-a9b6-38390da72cd8\",\n",
    "            \"page_num\":0,\n",
    "            \"page_size\":1000, \n",
    "            \"data_type\": logger,\n",
    "            \"start_utc\": start,\n",
    "            \"end_utc\": end,\n",
    "            \"upload_time\": False }\n",
    "\n",
    "    response = requests.request(\"GET\", req_url, params=one_day_params, headers=headers_list)\n",
    "    new_file = save_response(0, response, logger)\n",
    "    \n",
    "    json_files.append(new_file)\n",
    "    total_records = response.json()['count']\n",
    "    print(f\"Found {total_records} data points from {start} to {end}\")\n",
    "    total_pages = round(total_records / 1000) \n",
    "\n",
    "    page_num = 0\n",
    "    while page_num < total_pages: # request next pages\n",
    "        page_num += 1\n",
    "        one_day_params[\"page_num\"] = page_num\n",
    "        response = requests.request(\"GET\", req_url, params=one_day_params, headers=headers_list)\n",
    "        new_file = save_response(page_num, response, logger)\n",
    "        json_files.append(new_file)\n",
    "        "
   ]
  },
  {
   "cell_type": "code",
   "execution_count": 7,
   "metadata": {},
   "outputs": [
    {
     "data": {
      "text/plain": [
       "<Response [400]>"
      ]
     },
     "execution_count": 7,
     "metadata": {},
     "output_type": "execute_result"
    }
   ],
   "source": [
    "response"
   ]
  },
  {
   "cell_type": "code",
   "execution_count": 4,
   "metadata": {},
   "outputs": [
    {
     "data": {
      "text/plain": [
       "['../es_data/vehicle_data/obd_rpm_0.json',\n",
       " '../es_data/vehicle_data/obd_rpm_1.json',\n",
       " '../es_data/vehicle_data/obd_rpm_2.json',\n",
       " '../es_data/vehicle_data/obd_rpm_3.json',\n",
       " '../es_data/vehicle_data/obd_rpm_4.json',\n",
       " '../es_data/vehicle_data/obd_rpm_5.json',\n",
       " '../es_data/vehicle_data/obd_rpm_6.json',\n",
       " '../es_data/vehicle_data/obd_rpm_7.json']"
      ]
     },
     "execution_count": 4,
     "metadata": {},
     "output_type": "execute_result"
    }
   ],
   "source": [
    "json_files"
   ]
  },
  {
   "cell_type": "code",
   "execution_count": 62,
   "metadata": {},
   "outputs": [
    {
     "data": {
      "text/html": [
       "<div>\n",
       "<style scoped>\n",
       "    .dataframe tbody tr th:only-of-type {\n",
       "        vertical-align: middle;\n",
       "    }\n",
       "\n",
       "    .dataframe tbody tr th {\n",
       "        vertical-align: top;\n",
       "    }\n",
       "\n",
       "    .dataframe thead th {\n",
       "        text-align: right;\n",
       "    }\n",
       "</style>\n",
       "<table border=\"1\" class=\"dataframe\">\n",
       "  <thead>\n",
       "    <tr style=\"text-align: right;\">\n",
       "      <th></th>\n",
       "      <th>rec</th>\n",
       "      <th>ts</th>\n",
       "      <th>t</th>\n",
       "      <th>value</th>\n",
       "    </tr>\n",
       "  </thead>\n",
       "  <tbody>\n",
       "    <tr>\n",
       "      <th>2256</th>\n",
       "      <td>2024-10-29T13:34:59.876457Z</td>\n",
       "      <td>2024-10-29T13:34:26.010000Z</td>\n",
       "      <td>obd.oem_hv_battery_voltage</td>\n",
       "      <td>364.8</td>\n",
       "    </tr>\n",
       "    <tr>\n",
       "      <th>2255</th>\n",
       "      <td>2024-10-29T13:35:01.821561Z</td>\n",
       "      <td>2024-10-29T13:34:28.010000Z</td>\n",
       "      <td>obd.oem_hv_battery_voltage</td>\n",
       "      <td>364.9</td>\n",
       "    </tr>\n",
       "    <tr>\n",
       "      <th>2254</th>\n",
       "      <td>2024-10-29T13:35:03.257910Z</td>\n",
       "      <td>2024-10-29T13:34:33.010000Z</td>\n",
       "      <td>obd.oem_hv_battery_voltage</td>\n",
       "      <td>365.0</td>\n",
       "    </tr>\n",
       "    <tr>\n",
       "      <th>2253</th>\n",
       "      <td>2024-10-29T13:35:04.219290Z</td>\n",
       "      <td>2024-10-29T13:34:35.010000Z</td>\n",
       "      <td>obd.oem_hv_battery_voltage</td>\n",
       "      <td>363.5</td>\n",
       "    </tr>\n",
       "    <tr>\n",
       "      <th>2252</th>\n",
       "      <td>2024-10-29T13:35:04.931698Z</td>\n",
       "      <td>2024-10-29T13:34:38.010000Z</td>\n",
       "      <td>obd.oem_hv_battery_voltage</td>\n",
       "      <td>363.4</td>\n",
       "    </tr>\n",
       "    <tr>\n",
       "      <th>...</th>\n",
       "      <td>...</td>\n",
       "      <td>...</td>\n",
       "      <td>...</td>\n",
       "      <td>...</td>\n",
       "    </tr>\n",
       "    <tr>\n",
       "      <th>4</th>\n",
       "      <td>2024-10-30T12:44:58.316774Z</td>\n",
       "      <td>2024-10-30T12:44:54.020000Z</td>\n",
       "      <td>obd.oem_hv_battery_voltage</td>\n",
       "      <td>389.5</td>\n",
       "    </tr>\n",
       "    <tr>\n",
       "      <th>3</th>\n",
       "      <td>2024-10-30T12:44:59.030501Z</td>\n",
       "      <td>2024-10-30T12:44:57.010000Z</td>\n",
       "      <td>obd.oem_hv_battery_voltage</td>\n",
       "      <td>389.7</td>\n",
       "    </tr>\n",
       "    <tr>\n",
       "      <th>2</th>\n",
       "      <td>2024-10-30T12:45:07.852653Z</td>\n",
       "      <td>2024-10-30T12:45:05.010000Z</td>\n",
       "      <td>obd.oem_hv_battery_voltage</td>\n",
       "      <td>389.8</td>\n",
       "    </tr>\n",
       "    <tr>\n",
       "      <th>1</th>\n",
       "      <td>2024-10-30T12:45:10.510903Z</td>\n",
       "      <td>2024-10-30T12:45:07.010000Z</td>\n",
       "      <td>obd.oem_hv_battery_voltage</td>\n",
       "      <td>389.7</td>\n",
       "    </tr>\n",
       "    <tr>\n",
       "      <th>0</th>\n",
       "      <td>2024-10-30T12:45:20.905639Z</td>\n",
       "      <td>2024-10-30T12:45:17.010000Z</td>\n",
       "      <td>obd.oem_hv_battery_voltage</td>\n",
       "      <td>389.8</td>\n",
       "    </tr>\n",
       "  </tbody>\n",
       "</table>\n",
       "<p>2257 rows × 4 columns</p>\n",
       "</div>"
      ],
      "text/plain": [
       "                              rec                           ts  \\\n",
       "2256  2024-10-29T13:34:59.876457Z  2024-10-29T13:34:26.010000Z   \n",
       "2255  2024-10-29T13:35:01.821561Z  2024-10-29T13:34:28.010000Z   \n",
       "2254  2024-10-29T13:35:03.257910Z  2024-10-29T13:34:33.010000Z   \n",
       "2253  2024-10-29T13:35:04.219290Z  2024-10-29T13:34:35.010000Z   \n",
       "2252  2024-10-29T13:35:04.931698Z  2024-10-29T13:34:38.010000Z   \n",
       "...                           ...                          ...   \n",
       "4     2024-10-30T12:44:58.316774Z  2024-10-30T12:44:54.020000Z   \n",
       "3     2024-10-30T12:44:59.030501Z  2024-10-30T12:44:57.010000Z   \n",
       "2     2024-10-30T12:45:07.852653Z  2024-10-30T12:45:05.010000Z   \n",
       "1     2024-10-30T12:45:10.510903Z  2024-10-30T12:45:07.010000Z   \n",
       "0     2024-10-30T12:45:20.905639Z  2024-10-30T12:45:17.010000Z   \n",
       "\n",
       "                               t  value  \n",
       "2256  obd.oem_hv_battery_voltage  364.8  \n",
       "2255  obd.oem_hv_battery_voltage  364.9  \n",
       "2254  obd.oem_hv_battery_voltage  365.0  \n",
       "2253  obd.oem_hv_battery_voltage  363.5  \n",
       "2252  obd.oem_hv_battery_voltage  363.4  \n",
       "...                          ...    ...  \n",
       "4     obd.oem_hv_battery_voltage  389.5  \n",
       "3     obd.oem_hv_battery_voltage  389.7  \n",
       "2     obd.oem_hv_battery_voltage  389.8  \n",
       "1     obd.oem_hv_battery_voltage  389.7  \n",
       "0     obd.oem_hv_battery_voltage  389.8  \n",
       "\n",
       "[2257 rows x 4 columns]"
      ]
     },
     "execution_count": 62,
     "metadata": {},
     "output_type": "execute_result"
    }
   ],
   "source": [
    "combined_df.sort_values('ts', ascending=True)"
   ]
  },
  {
   "cell_type": "markdown",
   "metadata": {},
   "source": [
    "### EDA"
   ]
  },
  {
   "cell_type": "code",
   "execution_count": null,
   "metadata": {},
   "outputs": [],
   "source": [
    "df = pd.read_csv('customer_data/combined_responses.csv')"
   ]
  },
  {
   "cell_type": "code",
   "execution_count": 26,
   "metadata": {},
   "outputs": [
    {
     "data": {
      "text/html": [
       "<div>\n",
       "<style scoped>\n",
       "    .dataframe tbody tr th:only-of-type {\n",
       "        vertical-align: middle;\n",
       "    }\n",
       "\n",
       "    .dataframe tbody tr th {\n",
       "        vertical-align: top;\n",
       "    }\n",
       "\n",
       "    .dataframe thead th {\n",
       "        text-align: right;\n",
       "    }\n",
       "</style>\n",
       "<table border=\"1\" class=\"dataframe\">\n",
       "  <thead>\n",
       "    <tr style=\"text-align: right;\">\n",
       "      <th></th>\n",
       "      <th>rec</th>\n",
       "      <th>ts</th>\n",
       "      <th>t</th>\n",
       "      <th>value</th>\n",
       "    </tr>\n",
       "  </thead>\n",
       "  <tbody>\n",
       "    <tr>\n",
       "      <th>0</th>\n",
       "      <td>2024-10-29T13:34:59.876457Z</td>\n",
       "      <td>2024-10-29 13:34:26.010000+00:00</td>\n",
       "      <td>obd.oem_hv_battery_voltage</td>\n",
       "      <td>364.8</td>\n",
       "    </tr>\n",
       "    <tr>\n",
       "      <th>1</th>\n",
       "      <td>2024-10-29T13:35:01.821561Z</td>\n",
       "      <td>2024-10-29 13:34:28.010000+00:00</td>\n",
       "      <td>obd.oem_hv_battery_voltage</td>\n",
       "      <td>364.9</td>\n",
       "    </tr>\n",
       "    <tr>\n",
       "      <th>2</th>\n",
       "      <td>2024-10-29T13:35:03.257910Z</td>\n",
       "      <td>2024-10-29 13:34:33.010000+00:00</td>\n",
       "      <td>obd.oem_hv_battery_voltage</td>\n",
       "      <td>365.0</td>\n",
       "    </tr>\n",
       "    <tr>\n",
       "      <th>3</th>\n",
       "      <td>2024-10-29T13:35:04.219290Z</td>\n",
       "      <td>2024-10-29 13:34:35.010000+00:00</td>\n",
       "      <td>obd.oem_hv_battery_voltage</td>\n",
       "      <td>363.5</td>\n",
       "    </tr>\n",
       "    <tr>\n",
       "      <th>4</th>\n",
       "      <td>2024-10-29T13:35:04.931698Z</td>\n",
       "      <td>2024-10-29 13:34:38.010000+00:00</td>\n",
       "      <td>obd.oem_hv_battery_voltage</td>\n",
       "      <td>363.4</td>\n",
       "    </tr>\n",
       "    <tr>\n",
       "      <th>...</th>\n",
       "      <td>...</td>\n",
       "      <td>...</td>\n",
       "      <td>...</td>\n",
       "      <td>...</td>\n",
       "    </tr>\n",
       "    <tr>\n",
       "      <th>2252</th>\n",
       "      <td>2024-10-30T12:44:58.316774Z</td>\n",
       "      <td>2024-10-30 12:44:54.020000+00:00</td>\n",
       "      <td>obd.oem_hv_battery_voltage</td>\n",
       "      <td>389.5</td>\n",
       "    </tr>\n",
       "    <tr>\n",
       "      <th>2253</th>\n",
       "      <td>2024-10-30T12:44:59.030501Z</td>\n",
       "      <td>2024-10-30 12:44:57.010000+00:00</td>\n",
       "      <td>obd.oem_hv_battery_voltage</td>\n",
       "      <td>389.7</td>\n",
       "    </tr>\n",
       "    <tr>\n",
       "      <th>2254</th>\n",
       "      <td>2024-10-30T12:45:07.852653Z</td>\n",
       "      <td>2024-10-30 12:45:05.010000+00:00</td>\n",
       "      <td>obd.oem_hv_battery_voltage</td>\n",
       "      <td>389.8</td>\n",
       "    </tr>\n",
       "    <tr>\n",
       "      <th>2255</th>\n",
       "      <td>2024-10-30T12:45:10.510903Z</td>\n",
       "      <td>2024-10-30 12:45:07.010000+00:00</td>\n",
       "      <td>obd.oem_hv_battery_voltage</td>\n",
       "      <td>389.7</td>\n",
       "    </tr>\n",
       "    <tr>\n",
       "      <th>2256</th>\n",
       "      <td>2024-10-30T12:45:20.905639Z</td>\n",
       "      <td>2024-10-30 12:45:17.010000+00:00</td>\n",
       "      <td>obd.oem_hv_battery_voltage</td>\n",
       "      <td>389.8</td>\n",
       "    </tr>\n",
       "  </tbody>\n",
       "</table>\n",
       "<p>2257 rows × 4 columns</p>\n",
       "</div>"
      ],
      "text/plain": [
       "                              rec                               ts  \\\n",
       "0     2024-10-29T13:34:59.876457Z 2024-10-29 13:34:26.010000+00:00   \n",
       "1     2024-10-29T13:35:01.821561Z 2024-10-29 13:34:28.010000+00:00   \n",
       "2     2024-10-29T13:35:03.257910Z 2024-10-29 13:34:33.010000+00:00   \n",
       "3     2024-10-29T13:35:04.219290Z 2024-10-29 13:34:35.010000+00:00   \n",
       "4     2024-10-29T13:35:04.931698Z 2024-10-29 13:34:38.010000+00:00   \n",
       "...                           ...                              ...   \n",
       "2252  2024-10-30T12:44:58.316774Z 2024-10-30 12:44:54.020000+00:00   \n",
       "2253  2024-10-30T12:44:59.030501Z 2024-10-30 12:44:57.010000+00:00   \n",
       "2254  2024-10-30T12:45:07.852653Z 2024-10-30 12:45:05.010000+00:00   \n",
       "2255  2024-10-30T12:45:10.510903Z 2024-10-30 12:45:07.010000+00:00   \n",
       "2256  2024-10-30T12:45:20.905639Z 2024-10-30 12:45:17.010000+00:00   \n",
       "\n",
       "                               t  value  \n",
       "0     obd.oem_hv_battery_voltage  364.8  \n",
       "1     obd.oem_hv_battery_voltage  364.9  \n",
       "2     obd.oem_hv_battery_voltage  365.0  \n",
       "3     obd.oem_hv_battery_voltage  363.5  \n",
       "4     obd.oem_hv_battery_voltage  363.4  \n",
       "...                          ...    ...  \n",
       "2252  obd.oem_hv_battery_voltage  389.5  \n",
       "2253  obd.oem_hv_battery_voltage  389.7  \n",
       "2254  obd.oem_hv_battery_voltage  389.8  \n",
       "2255  obd.oem_hv_battery_voltage  389.7  \n",
       "2256  obd.oem_hv_battery_voltage  389.8  \n",
       "\n",
       "[2257 rows x 4 columns]"
      ]
     },
     "execution_count": 26,
     "metadata": {},
     "output_type": "execute_result"
    }
   ],
   "source": [
    "df.drop(['Unnamed: 0'], axis=1)"
   ]
  },
  {
   "cell_type": "code",
   "execution_count": null,
   "metadata": {},
   "outputs": [
    {
     "data": {
      "image/png": "[encoded data removed]",
      "text/plain": [
       "<Figure size 1200x600 with 1 Axes>"
      ]
     },
     "metadata": {},
     "output_type": "display_data"
    }
   ],
   "source": [
    "# # Convert the 'ts' column to datetime\n",
    "# df['ts'] = pd.to_datetime(df['ts'])\n",
    "\n",
    "# # Plotting\n",
    "# plt.figure(figsize=(12, 6))\n",
    "# plt.plot(df['ts'], df['value'], label=\"Battery Voltage\", color='blue')\n",
    "\n",
    "# # Set x-axis to display time labels every 15 minutes without the year\n",
    "# plt.gca().xaxis.set_major_locator(mdates.MinuteLocator(interval=35))\n",
    "# plt.gca().xaxis.set_major_formatter(mdates.DateFormatter('%H:%M'))\n",
    "\n",
    "# # Rotate x labels for clarity\n",
    "# plt.xlabel('Time')\n",
    "# plt.xticks(rotation=90)\n",
    "\n",
    "# # Y-axis and other plot elements\n",
    "# plt.ylabel('Battery Voltage (V)')\n",
    "# plt.title('Battery Voltage vs. Time')\n",
    "# plt.legend()\n",
    "# plt.grid(True)\n",
    "# plt.tight_layout()\n",
    "# plt.show()"
   ]
  }
 ],
 "metadata": {
  "kernelspec": {
   "display_name": "aau",
   "language": "python",
   "name": "python3"
  },
  "language_info": {
   "codemirror_mode": {
    "name": "ipython",
    "version": 3
   },
   "file_extension": ".py",
   "mimetype": "text/x-python",
   "name": "python",
   "nbconvert_exporter": "python",
   "pygments_lexer": "ipython3",
   "version": "3.12.3"
  }
 },
 "nbformat": 4,
 "nbformat_minor": 2
}
