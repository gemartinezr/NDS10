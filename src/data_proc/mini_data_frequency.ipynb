{
 "cells": [
  {
   "cell_type": "code",
   "execution_count": 1,
   "metadata": {},
   "outputs": [],
   "source": [
    "import pandas as pd\n",
    "import matplotlib.pyplot as plt\n",
    "import matplotlib.dates as mdates\n",
    "import json\n",
    "from glob import glob\n",
    "import requests\n",
    "from datetime import datetime \n",
    "import os"
   ]
  },
  {
   "cell_type": "markdown",
   "metadata": {},
   "source": [
    "### Settings"
   ]
  },
  {
   "cell_type": "code",
   "execution_count": null,
   "metadata": {},
   "outputs": [
    {
     "name": "stdout",
     "output_type": "stream",
     "text": [
      "STD Loggers: 14\n",
      "Track Loggers: 6\n",
      "OBD Loggers: 34\n",
      "OBD OEM Loggers: 14\n"
     ]
    },
    {
     "data": {
      "text/plain": [
       "'\\nExample to make request to logbook/storage/read\\n\\nhttps://api.cloud01.qa.autopi.io/logbook/storage/read/\\nfield=std.gsm_signal\\nfield_type=int\\naggregation=avg\\nfrom_utc=2025-06-22T22:00:00.063Z\\nend_utc=2025-06-23T09:13:55.315Z\\ninterval=1m\\n'"
      ]
     },
     "execution_count": 17,
     "metadata": {},
     "output_type": "execute_result"
    }
   ],
   "source": [
    "# Elfi QA  \n",
    "# unit_id = 7536f0b1-2510-4f94-a9b6-38390da72cd8 \n",
    "\n",
    "#token_path = \".secrets/qa_autopi_token.txt\"\n",
    "req_url = \"https://api.cloud01.qa.autopi.io/logbook/raw/\"\n",
    "start = \"2025-06-23T07:05:00.000Z\"\n",
    "end   = \"2025-06-23T07:10:00.000Z\"\n",
    "save_path= \"/tmp/\"\n",
    "\n",
    "std_loggers = [\"std.accelerometer_axis_x\",\"std.total_odometer\",\"std.battery_level\",\"std.accelerometer_axis_z\",\"std.trip_odometer\",\"std.fuel_rate_gps\",\"std.accelerometer_axis_y\",\"std.trip_odometer\",\"std.battery_current\",\"std.speed\",\"std.gsm_signal\",\"std.fuel_used_gps\", \"opt.iccid2\", \"std.ignition\"]\n",
    "\n",
    "track_loggers = [\"track.pos.nsat\",\"track.pos.cog\",\"track.pos.alt\",\"track.pos.pr\",\"track.pos.sog\",\"track.pos.loc\"]\n",
    "\n",
    "obd2_loggers = [\"obd.time_since_codes_cleared\",\"obd.absolute_load\",\"obd.time_run_with_mil_on\",\"obd.commanded_egr\",\"obd.fuel_level\",\"obd.barometic_pressure\",\"obd.absolute_fuel_rail_pressure\",\"obd.bat.voltage\",\"obd.short_fuel_trim\",\"obd.number_of_dtc\",\"obd.fuel_injection_timing\",\"obd.maf\",\"obd.timing_advance\",\"obd.intake_temp\",\"obd.fuel_pressure\",\"obd.oil_temp\",\"obd.coolant_temp\",\"obd.egr_error\",\"obd.control_module_voltage\",\"obd.maf\",\"obd.intake_map\",\"obd.ambient_air_temp\",\"obd.bat.level\",\"obd.throttle_pos\",\"obd.fuel_rail_pressure_vac\",\"obd.fuel_rail_pressure_direct\",\"obd.obd_oem_total_mileage\",\"obd.hybrid_battery_pack_life\",\"obd.speed\",\"obd.distance_since_codes_clear\",\"obd.run_time\",\"obd.distance_w_mil\",\"obd.rpm\",\"obd.fuel_type\"]\n",
    "\n",
    "\n",
    "obd_oem = [\"obd.oem_hv_battery_max_cell_voltage\", \"obd.oem_battery_charge_level\",\"obd.oem_battery_temperature\",\"obd.oem_hv_battery_measured_energy\", \"obd.oem_hv_battery_max_cell_temperature\",\"obd.oem_hv_battery_min_cell_voltage\", \"obd.oem_hv_battery_min_cell_temperature\", \"obd.oem_remaining_distance\", \"obd.oem_hv_battery_lifetime_charge_power\", \"obd.oem_hv_battery_max_energy\", \"obd.oem_hv_battery_current\", \"obd.oem_hv_battery_lifetime_power_use\", \"obd.oem_battery_charge_state\",\"obd.oem_battery_state_of_health\"]\n",
    "\n",
    "loggers = std_loggers + track_loggers + obd2_loggers + obd_oem\n",
    "\n",
    "print(f\"STD Loggers: {len(std_loggers)}\")\n",
    "print(f\"Track Loggers: {len(track_loggers)}\")\n",
    "print(f\"OBD Loggers: {len(obd2_loggers)}\")\n",
    "print(f\"OBD OEM Loggers: {len(obd_oem)}\")\n",
    "\n",
    "\"\"\"\n",
    "Example to make request to logbook/storage/read\n",
    "\n",
    "https://api.cloud01.qa.autopi.io/logbook/storage/read/\n",
    "field=std.gsm_signal\n",
    "field_type=int\n",
    "aggregation=avg\n",
    "from_utc=2025-06-22T22:00:00.063Z\n",
    "end_utc=2025-06-23T09:13:55.315Z\n",
    "interval=1m\n",
    "\"\"\""
   ]
  },
  {
   "cell_type": "code",
   "execution_count": 10,
   "metadata": {},
   "outputs": [],
   "source": [
    "expected_loggers = [\"obd.oem_hv_battery_lifetime_charge_power\",\"obd.ambient_air_temp\",\"std.battery_voltage\",\"std.battery_level\",\"obd.oem_battery_charge_level\",\"std.gsm_signal\",\"obd.oem_hv_battery_current\",\"obd.oem_battery_temperature\",\"obd.oem_hv_battery_current\",\"obd.oem_hv_battery_max_cell_temperature\",\"obd.oem_hv_battery_min_cell_temperature\",\"obd.oem_hv_battery_max_cell_voltage\",\"obd.oem_hv_battery_min_cell_voltage\",\"obd.bat.voltage\",\"std.total_odometer\",\"obd.oem_battery_charge_state\",\"std.ignition\",\"obd.speed\",\"obd.oem_hv_battery_lifetime_power_use\",\"obd.oem_hv_battery_max_energy\"]"
   ]
  },
  {
   "cell_type": "code",
   "execution_count": 12,
   "metadata": {},
   "outputs": [],
   "source": [
    "# \"obd.oem_hv_battery_lifetime_charge_power\",\n",
    "# \"obd.ambient_air_temp\",\n",
    "# \"std.battery_voltage\",\n",
    "# \"std.battery_level\",\n",
    "# \"obd.oem_battery_charge_level\",\n",
    "# \"std.gsm_signal\",\n",
    "# \"obd.oem_hv_battery_current\",\n",
    "# \"obd.oem_battery_temperature\",\n",
    "# \"obd.oem_hv_battery_current\",\n",
    "# \"obd.oem_hv_battery_max_cell_temperature\",\n",
    "# \"obd.oem_hv_battery_min_cell_temperature\",\n",
    "# \"obd.oem_hv_battery_max_cell_voltage\",\n",
    "# \"obd.oem_hv_battery_min_cell_voltage\",\n",
    "# \"obd.bat.voltage\",\"std.total_odometer\",\n",
    "# \"obd.oem_battery_charge_state\",\n",
    "# \"std.ignition\",\"obd.speed\",\n",
    "# \"obd.oem_hv_battery_lifetime_power_use\",\n",
    "# \"obd.oem_hv_battery_max_energy\""
   ]
  },
  {
   "cell_type": "code",
   "execution_count": 11,
   "metadata": {},
   "outputs": [
    {
     "data": {
      "text/plain": [
       "20"
      ]
     },
     "execution_count": 11,
     "metadata": {},
     "output_type": "execute_result"
    }
   ],
   "source": [
    "len(expected_loggers)"
   ]
  },
  {
   "cell_type": "markdown",
   "metadata": {},
   "source": [
    "### API request and data transformations"
   ]
  },
  {
   "cell_type": "code",
   "execution_count": 3,
   "metadata": {},
   "outputs": [],
   "source": [
    "def save_response(page_num, response, logger: str, path: str):\n",
    "    os.makedirs(path, exist_ok=True)  # Ensure the directory exists\n",
    "    file_name = f\"{logger.replace('.', '_')}_{page_num}.json\"\n",
    "    file_path = os.path.join(path, file_name)  # Safer path joining\n",
    "    with open(file_path, 'w') as json_response:\n",
    "        json_response.write(response.text)\n",
    "    return file_path"
   ]
  },
  {
   "cell_type": "code",
   "execution_count": 18,
   "metadata": {},
   "outputs": [
    {
     "name": "stdout",
     "output_type": "stream",
     "text": [
      "Found 0 data points from 2025-06-23T07:05:00.000Z to 2025-06-23T07:10:00.000Z for std.accelerometer_axis_x logger\n",
      "Found 274 data points from 2025-06-23T07:05:00.000Z to 2025-06-23T07:10:00.000Z for std.total_odometer logger\n",
      "Found 274 data points from 2025-06-23T07:05:00.000Z to 2025-06-23T07:10:00.000Z for std.battery_level logger\n",
      "Found 0 data points from 2025-06-23T07:05:00.000Z to 2025-06-23T07:10:00.000Z for std.accelerometer_axis_z logger\n",
      "Found 0 data points from 2025-06-23T07:05:00.000Z to 2025-06-23T07:10:00.000Z for std.trip_odometer logger\n",
      "Found 0 data points from 2025-06-23T07:05:00.000Z to 2025-06-23T07:10:00.000Z for std.fuel_rate_gps logger\n",
      "Found 0 data points from 2025-06-23T07:05:00.000Z to 2025-06-23T07:10:00.000Z for std.accelerometer_axis_y logger\n",
      "Found 0 data points from 2025-06-23T07:05:00.000Z to 2025-06-23T07:10:00.000Z for std.trip_odometer logger\n",
      "Found 274 data points from 2025-06-23T07:05:00.000Z to 2025-06-23T07:10:00.000Z for std.battery_current logger\n",
      "Found 0 data points from 2025-06-23T07:05:00.000Z to 2025-06-23T07:10:00.000Z for std.speed logger\n",
      "Found 274 data points from 2025-06-23T07:05:00.000Z to 2025-06-23T07:10:00.000Z for std.gsm_signal logger\n",
      "Found 0 data points from 2025-06-23T07:05:00.000Z to 2025-06-23T07:10:00.000Z for std.fuel_used_gps logger\n",
      "Found 0 data points from 2025-06-23T07:05:00.000Z to 2025-06-23T07:10:00.000Z for opt.iccid2 logger\n",
      "Found 274 data points from 2025-06-23T07:05:00.000Z to 2025-06-23T07:10:00.000Z for std.ignition logger\n",
      "Found 0 data points from 2025-06-23T07:05:00.000Z to 2025-06-23T07:10:00.000Z for track.pos.nsat logger\n",
      "Found 0 data points from 2025-06-23T07:05:00.000Z to 2025-06-23T07:10:00.000Z for track.pos.cog logger\n",
      "Found 0 data points from 2025-06-23T07:05:00.000Z to 2025-06-23T07:10:00.000Z for track.pos.alt logger\n",
      "Found 0 data points from 2025-06-23T07:05:00.000Z to 2025-06-23T07:10:00.000Z for track.pos.pr logger\n",
      "Found 0 data points from 2025-06-23T07:05:00.000Z to 2025-06-23T07:10:00.000Z for track.pos.sog logger\n",
      "Found 0 data points from 2025-06-23T07:05:00.000Z to 2025-06-23T07:10:00.000Z for track.pos.loc logger\n",
      "Found 0 data points from 2025-06-23T07:05:00.000Z to 2025-06-23T07:10:00.000Z for obd.time_since_codes_cleared logger\n",
      "Found 0 data points from 2025-06-23T07:05:00.000Z to 2025-06-23T07:10:00.000Z for obd.absolute_load logger\n",
      "Found 0 data points from 2025-06-23T07:05:00.000Z to 2025-06-23T07:10:00.000Z for obd.time_run_with_mil_on logger\n",
      "Found 0 data points from 2025-06-23T07:05:00.000Z to 2025-06-23T07:10:00.000Z for obd.commanded_egr logger\n",
      "Found 0 data points from 2025-06-23T07:05:00.000Z to 2025-06-23T07:10:00.000Z for obd.fuel_level logger\n",
      "Found 0 data points from 2025-06-23T07:05:00.000Z to 2025-06-23T07:10:00.000Z for obd.barometic_pressure logger\n",
      "Found 0 data points from 2025-06-23T07:05:00.000Z to 2025-06-23T07:10:00.000Z for obd.absolute_fuel_rail_pressure logger\n",
      "Found 0 data points from 2025-06-23T07:05:00.000Z to 2025-06-23T07:10:00.000Z for obd.bat.voltage logger\n",
      "Found 0 data points from 2025-06-23T07:05:00.000Z to 2025-06-23T07:10:00.000Z for obd.short_fuel_trim logger\n",
      "Found 0 data points from 2025-06-23T07:05:00.000Z to 2025-06-23T07:10:00.000Z for obd.number_of_dtc logger\n",
      "Found 0 data points from 2025-06-23T07:05:00.000Z to 2025-06-23T07:10:00.000Z for obd.fuel_injection_timing logger\n",
      "Found 0 data points from 2025-06-23T07:05:00.000Z to 2025-06-23T07:10:00.000Z for obd.maf logger\n",
      "Found 0 data points from 2025-06-23T07:05:00.000Z to 2025-06-23T07:10:00.000Z for obd.timing_advance logger\n",
      "Found 0 data points from 2025-06-23T07:05:00.000Z to 2025-06-23T07:10:00.000Z for obd.intake_temp logger\n",
      "Found 0 data points from 2025-06-23T07:05:00.000Z to 2025-06-23T07:10:00.000Z for obd.fuel_pressure logger\n",
      "Found 0 data points from 2025-06-23T07:05:00.000Z to 2025-06-23T07:10:00.000Z for obd.oil_temp logger\n",
      "Found 0 data points from 2025-06-23T07:05:00.000Z to 2025-06-23T07:10:00.000Z for obd.coolant_temp logger\n",
      "Found 0 data points from 2025-06-23T07:05:00.000Z to 2025-06-23T07:10:00.000Z for obd.egr_error logger\n",
      "Found 0 data points from 2025-06-23T07:05:00.000Z to 2025-06-23T07:10:00.000Z for obd.control_module_voltage logger\n",
      "Found 0 data points from 2025-06-23T07:05:00.000Z to 2025-06-23T07:10:00.000Z for obd.maf logger\n",
      "Found 0 data points from 2025-06-23T07:05:00.000Z to 2025-06-23T07:10:00.000Z for obd.intake_map logger\n",
      "Found 0 data points from 2025-06-23T07:05:00.000Z to 2025-06-23T07:10:00.000Z for obd.ambient_air_temp logger\n",
      "Found 0 data points from 2025-06-23T07:05:00.000Z to 2025-06-23T07:10:00.000Z for obd.bat.level logger\n",
      "Found 0 data points from 2025-06-23T07:05:00.000Z to 2025-06-23T07:10:00.000Z for obd.throttle_pos logger\n",
      "Found 0 data points from 2025-06-23T07:05:00.000Z to 2025-06-23T07:10:00.000Z for obd.fuel_rail_pressure_vac logger\n",
      "Found 0 data points from 2025-06-23T07:05:00.000Z to 2025-06-23T07:10:00.000Z for obd.fuel_rail_pressure_direct logger\n",
      "Found 0 data points from 2025-06-23T07:05:00.000Z to 2025-06-23T07:10:00.000Z for obd.obd_oem_total_mileage logger\n",
      "Found 0 data points from 2025-06-23T07:05:00.000Z to 2025-06-23T07:10:00.000Z for obd.hybrid_battery_pack_life logger\n",
      "Found 0 data points from 2025-06-23T07:05:00.000Z to 2025-06-23T07:10:00.000Z for obd.speed logger\n",
      "Found 0 data points from 2025-06-23T07:05:00.000Z to 2025-06-23T07:10:00.000Z for obd.distance_since_codes_clear logger\n",
      "Found 0 data points from 2025-06-23T07:05:00.000Z to 2025-06-23T07:10:00.000Z for obd.run_time logger\n",
      "Found 0 data points from 2025-06-23T07:05:00.000Z to 2025-06-23T07:10:00.000Z for obd.distance_w_mil logger\n",
      "Found 0 data points from 2025-06-23T07:05:00.000Z to 2025-06-23T07:10:00.000Z for obd.rpm logger\n",
      "Found 0 data points from 2025-06-23T07:05:00.000Z to 2025-06-23T07:10:00.000Z for obd.fuel_type logger\n",
      "Found 274 data points from 2025-06-23T07:05:00.000Z to 2025-06-23T07:10:00.000Z for obd.oem_hv_battery_max_cell_voltage logger\n",
      "Found 274 data points from 2025-06-23T07:05:00.000Z to 2025-06-23T07:10:00.000Z for obd.oem_battery_charge_level logger\n",
      "Found 274 data points from 2025-06-23T07:05:00.000Z to 2025-06-23T07:10:00.000Z for obd.oem_battery_temperature logger\n",
      "Found 0 data points from 2025-06-23T07:05:00.000Z to 2025-06-23T07:10:00.000Z for obd.oem_hv_battery_measured_energy logger\n",
      "Found 274 data points from 2025-06-23T07:05:00.000Z to 2025-06-23T07:10:00.000Z for obd.oem_hv_battery_max_cell_temperature logger\n",
      "Found 274 data points from 2025-06-23T07:05:00.000Z to 2025-06-23T07:10:00.000Z for obd.oem_hv_battery_min_cell_voltage logger\n",
      "Found 274 data points from 2025-06-23T07:05:00.000Z to 2025-06-23T07:10:00.000Z for obd.oem_hv_battery_min_cell_temperature logger\n",
      "Found 0 data points from 2025-06-23T07:05:00.000Z to 2025-06-23T07:10:00.000Z for obd.oem_remaining_distance logger\n",
      "Found 274 data points from 2025-06-23T07:05:00.000Z to 2025-06-23T07:10:00.000Z for obd.oem_hv_battery_lifetime_charge_power logger\n",
      "Found 274 data points from 2025-06-23T07:05:00.000Z to 2025-06-23T07:10:00.000Z for obd.oem_hv_battery_max_energy logger\n",
      "Found 274 data points from 2025-06-23T07:05:00.000Z to 2025-06-23T07:10:00.000Z for obd.oem_hv_battery_current logger\n",
      "Found 274 data points from 2025-06-23T07:05:00.000Z to 2025-06-23T07:10:00.000Z for obd.oem_hv_battery_lifetime_power_use logger\n",
      "Found 274 data points from 2025-06-23T07:05:00.000Z to 2025-06-23T07:10:00.000Z for obd.oem_battery_charge_state logger\n",
      "Found 0 data points from 2025-06-23T07:05:00.000Z to 2025-06-23T07:10:00.000Z for obd.oem_battery_state_of_health logger\n"
     ]
    }
   ],
   "source": [
    "# Set the environment variable\n",
    "os.environ[\"MY_TOKEN\"] = token#content\n",
    "\n",
    "headers_list = {\n",
    " \"Accept\": \"*/*\",\n",
    " \"Content-Type\": \"application/json\",\n",
    " \"Authorization\": f\"APIToken {os.environ.get('MY_TOKEN')}\" \n",
    "}\n",
    "\n",
    "json_files = []\n",
    "\n",
    "for logger in loggers: \n",
    "    one_day_params = {\"device_id\":\"7536f0b1-2510-4f94-a9b6-38390da72cd8\",\n",
    "            \"page_num\":0,\n",
    "            \"page_size\":1000, \n",
    "            \"data_type\": logger,\n",
    "            \"start_utc\": start,\n",
    "            \"end_utc\": end,\n",
    "            \"upload_time\": False }\n",
    "\n",
    "    response = requests.request(\"GET\", req_url, params=one_day_params, headers=headers_list)\n",
    "    new_file = save_response(0, response, logger,save_path )\n",
    "    \n",
    "    json_files.append(new_file)\n",
    "    total_records = response.json()['count']\n",
    "    print(f\"Found {total_records} data points from {start} to {end} for {logger} logger\")\n",
    "    total_pages = round(total_records / 1000) \n",
    "\n",
    "    page_num = 0\n",
    "    while page_num < total_pages: # request next pages\n",
    "        page_num += 1\n",
    "        one_day_params[\"page_num\"] = page_num\n",
    "        response = requests.request(\"GET\", req_url, params=one_day_params, headers=headers_list)\n",
    "        new_file = save_response(page_num, response, logger, save_path)\n",
    "        json_files.append(new_file)"
   ]
  },
  {
   "cell_type": "markdown",
   "metadata": {},
   "source": [
    "### Convert to CSV"
   ]
  },
  {
   "cell_type": "code",
   "execution_count": null,
   "metadata": {},
   "outputs": [
    {
     "name": "stdout",
     "output_type": "stream",
     "text": [
      "RPM files found: ['~/Downloads/obd_rpm_0.json', '~/Downloads/obd_rpm_1.json', '~/Downloads/obd_rpm_2.json', '~/Downloads/obd_rpm_3.json', '~/Downloads/obd_rpm_4.json']\n",
      "CSV saved to ~/Downloads/mini_obd_data.csv\n"
     ]
    }
   ],
   "source": [
    "def load_json_results(file_path):\n",
    "    with open(file_path, 'r') as f:\n",
    "        return json.load(f)[\"results\"]\n",
    "\n",
    "# Create full file patterns\n",
    "file_map = {\n",
    "    \"obd_rpm\": sorted(glob(os.path.join(save_path, \"obd_rpm_*.json\"))),\n",
    "    \"obd_speed\": sorted(glob(os.path.join(save_path, \"obd_speed_*.json\"))),\n",
    "    \"obd_engine_load\": sorted(glob(os.path.join(save_path, \"obd_engine_load_*.json\"))),\n",
    "}\n",
    "\n",
    "print(\"RPM files found:\", file_map[\"obd_rpm\"])\n",
    "\n",
    "# Build a dictionary indexed by ts\n",
    "data_by_ts = {}\n",
    "\n",
    "for key, files in file_map.items():\n",
    "    for file in files:\n",
    "        for entry in load_json_results(file):\n",
    "            ts = entry[\"ts\"]\n",
    "            rec = entry[\"rec\"]\n",
    "            val = entry[\"data\"][\"value\"]\n",
    "            if ts not in data_by_ts:\n",
    "                data_by_ts[ts] = {\n",
    "                    \"ts_recorded\": ts,\n",
    "                    \"ts_uploaded\": rec,\n",
    "                    \"obd_rpm\": None,\n",
    "                    \"obd_speed\": None,\n",
    "                    \"obd_engine_load\": None\n",
    "                }\n",
    "            if rec > data_by_ts[ts][\"ts_uploaded\"]:\n",
    "                data_by_ts[ts][\"ts_uploaded\"] = rec\n",
    "            data_by_ts[ts][key] = val\n",
    "\n",
    "# Convert to DataFrame\n",
    "df = pd.DataFrame(data_by_ts.values())\n",
    "df.sort_values(\"ts_recorded\", inplace=True)\n",
    "\n",
    "# Save CSV to same directory\n",
    "csv_output = os.path.join(save_path, \"mini_obd_data.csv\")\n",
    "df.to_csv(csv_output, index=False)\n",
    "print(f\"CSV saved to {csv_output}\")"
   ]
  },
  {
   "cell_type": "markdown",
   "metadata": {},
   "source": [
    "### EDA"
   ]
  },
  {
   "cell_type": "code",
   "execution_count": 13,
   "metadata": {},
   "outputs": [],
   "source": [
    "df = pd.read_csv(f\"{save_path}/mini_obd_data.csv\")"
   ]
  },
  {
   "cell_type": "code",
   "execution_count": 15,
   "metadata": {},
   "outputs": [
    {
     "name": "stdout",
     "output_type": "stream",
     "text": [
      "<class 'pandas.core.frame.DataFrame'>\n",
      "RangeIndex: 3550 entries, 0 to 3549\n",
      "Data columns (total 5 columns):\n",
      " #   Column           Non-Null Count  Dtype \n",
      "---  ------           --------------  ----- \n",
      " 0   ts_recorded      3550 non-null   object\n",
      " 1   ts_uploaded      3550 non-null   object\n",
      " 2   obd_rpm          3550 non-null   int64 \n",
      " 3   obd_speed        3550 non-null   int64 \n",
      " 4   obd_engine_load  3550 non-null   int64 \n",
      "dtypes: int64(3), object(2)\n",
      "memory usage: 138.8+ KB\n"
     ]
    }
   ],
   "source": [
    "df.info()"
   ]
  },
  {
   "cell_type": "code",
   "execution_count": 16,
   "metadata": {},
   "outputs": [
    {
     "data": {
      "image/png": "[encoded data removed]",
      "text/plain": [
       "<Figure size 1200x600 with 1 Axes>"
      ]
     },
     "metadata": {},
     "output_type": "display_data"
    }
   ],
   "source": [
    "# Convert timestamps to datetime format\n",
    "df[\"ts_recorded\"] = pd.to_datetime(df[\"ts_recorded\"], utc=True)\n",
    "df[\"ts_uploaded\"] = pd.to_datetime(df[\"ts_uploaded\"], utc=True)\n",
    "\n",
    "# Compute latency in seconds\n",
    "df[\"latency_sec\"] = (df[\"ts_uploaded\"] - df[\"ts_recorded\"]).dt.total_seconds()\n",
    "\n",
    "# Set ts_recorded as the index for time-based operations\n",
    "df.set_index(\"ts_recorded\", inplace=True)\n",
    "\n",
    "# Compute 5-minute average latency\n",
    "latency_5min_avg = df[\"latency_sec\"].resample(\"5min\").mean()\n",
    "\n",
    "# Plot the 5-minute average latency\n",
    "plt.figure(figsize=(12, 6))\n",
    "latency_5min_avg.plot()\n",
    "plt.title(\"5-Minute Average Latency (ts_uploaded - ts_recorded)\")\n",
    "plt.xlabel(\"Time\")\n",
    "plt.ylabel(\"Latency (seconds)\")\n",
    "plt.grid(True)\n",
    "plt.tight_layout()\n",
    "plt.show()"
   ]
  },
  {
   "cell_type": "code",
   "execution_count": null,
   "metadata": {},
   "outputs": [],
   "source": [
    "# # Convert the 'ts' column to datetime\n",
    "# df['ts'] = pd.to_datetime(df['ts'])\n",
    "\n",
    "# # Plotting\n",
    "# plt.figure(figsize=(12, 6))\n",
    "# plt.plot(df['ts'], df['value'], label=\"Battery Voltage\", color='blue')\n",
    "\n",
    "# # Set x-axis to display time labels every 15 minutes without the year\n",
    "# plt.gca().xaxis.set_major_locator(mdates.MinuteLocator(interval=35))\n",
    "# plt.gca().xaxis.set_major_formatter(mdates.DateFormatter('%H:%M'))\n",
    "\n",
    "# # Rotate x labels for clarity\n",
    "# plt.xlabel('Time')\n",
    "# plt.xticks(rotation=90)\n",
    "\n",
    "# # Y-axis and other plot elements\n",
    "# plt.ylabel('Battery Voltage (V)')\n",
    "# plt.title('Battery Voltage vs. Time')\n",
    "# plt.legend()\n",
    "# plt.grid(True)\n",
    "# plt.tight_layout()\n",
    "# plt.show()"
   ]
  }
 ],
 "metadata": {
  "kernelspec": {
   "display_name": "squid-3",
   "language": "python",
   "name": "python3"
  },
  "language_info": {
   "codemirror_mode": {
    "name": "ipython",
    "version": 3
   },
   "file_extension": ".py",
   "mimetype": "text/x-python",
   "name": "python",
   "nbconvert_exporter": "python",
   "pygments_lexer": "ipython3",
   "version": "3.9.22"
  }
 },
 "nbformat": 4,
 "nbformat_minor": 4
}
